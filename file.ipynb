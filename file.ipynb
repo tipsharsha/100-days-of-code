{
 "cells": [
  {
   "cell_type": "code",
   "execution_count": 2,
   "metadata": {},
   "outputs": [
    {
     "ename": "UnicodeDecodeError",
     "evalue": "'charmap' codec can't decode byte 0x90 in position 1154: character maps to <undefined>",
     "output_type": "error",
     "traceback": [
      "\u001b[1;31m---------------------------------------------------------------------------\u001b[0m",
      "\u001b[1;31mUnicodeDecodeError\u001b[0m                        Traceback (most recent call last)",
      "\u001b[1;32mc:\\Users\\tipsh\\OneDrive - hyderabad.bits-pilani.ac.in\\Documents\\Programming\\file.ipynb Cell 1\u001b[0m in \u001b[0;36m<cell line: 5>\u001b[1;34m()\u001b[0m\n\u001b[0;32m      <a href='vscode-notebook-cell:/c%3A/Users/tipsh/OneDrive%20-%20hyderabad.bits-pilani.ac.in/Documents/Programming/file.ipynb#W0sZmlsZQ%3D%3D?line=1'>2</a>\u001b[0m \u001b[39mimport\u001b[39;00m \u001b[39mlxml\u001b[39;00m\n\u001b[0;32m      <a href='vscode-notebook-cell:/c%3A/Users/tipsh/OneDrive%20-%20hyderabad.bits-pilani.ac.in/Documents/Programming/file.ipynb#W0sZmlsZQ%3D%3D?line=4'>5</a>\u001b[0m \u001b[39mwith\u001b[39;00m \u001b[39mopen\u001b[39m(\u001b[39m\"\u001b[39m\u001b[39mWeb dev\u001b[39m\u001b[39m\\\u001b[39m\u001b[39mPersonal Site\u001b[39m\u001b[39m\\\u001b[39m\u001b[39mindex.html\u001b[39m\u001b[39m\"\u001b[39m) \u001b[39mas\u001b[39;00m files:\n\u001b[1;32m----> <a href='vscode-notebook-cell:/c%3A/Users/tipsh/OneDrive%20-%20hyderabad.bits-pilani.ac.in/Documents/Programming/file.ipynb#W0sZmlsZQ%3D%3D?line=5'>6</a>\u001b[0m     content \u001b[39m=\u001b[39m files\u001b[39m.\u001b[39;49mread()\n\u001b[0;32m      <a href='vscode-notebook-cell:/c%3A/Users/tipsh/OneDrive%20-%20hyderabad.bits-pilani.ac.in/Documents/Programming/file.ipynb#W0sZmlsZQ%3D%3D?line=7'>8</a>\u001b[0m soup \u001b[39m=\u001b[39m BeautifulSoup(content,\u001b[39m'\u001b[39m\u001b[39mhtml.parser\u001b[39m\u001b[39m'\u001b[39m)\n\u001b[0;32m      <a href='vscode-notebook-cell:/c%3A/Users/tipsh/OneDrive%20-%20hyderabad.bits-pilani.ac.in/Documents/Programming/file.ipynb#W0sZmlsZQ%3D%3D?line=8'>9</a>\u001b[0m \u001b[39mprint\u001b[39m(soup\u001b[39m.\u001b[39mtitle)\n",
      "File \u001b[1;32mC:\\Program Files\\WindowsApps\\PythonSoftwareFoundation.Python.3.9_3.9.3568.0_x64__qbz5n2kfra8p0\\lib\\encodings\\cp1252.py:23\u001b[0m, in \u001b[0;36mIncrementalDecoder.decode\u001b[1;34m(self, input, final)\u001b[0m\n\u001b[0;32m     22\u001b[0m \u001b[39mdef\u001b[39;00m \u001b[39mdecode\u001b[39m(\u001b[39mself\u001b[39m, \u001b[39minput\u001b[39m, final\u001b[39m=\u001b[39m\u001b[39mFalse\u001b[39;00m):\n\u001b[1;32m---> 23\u001b[0m     \u001b[39mreturn\u001b[39;00m codecs\u001b[39m.\u001b[39;49mcharmap_decode(\u001b[39minput\u001b[39;49m,\u001b[39mself\u001b[39;49m\u001b[39m.\u001b[39;49merrors,decoding_table)[\u001b[39m0\u001b[39m]\n",
      "\u001b[1;31mUnicodeDecodeError\u001b[0m: 'charmap' codec can't decode byte 0x90 in position 1154: character maps to <undefined>"
     ]
    }
   ],
   "source": [
    "from bs4 import BeautifulSoup\n",
    "import lxml\n",
    "\n",
    "\n",
    "with open(\"Web dev\\Personal Site\\index.html\") as files:\n",
    "    content = files.read()\n",
    "\n",
    "soup = BeautifulSoup(content,'html.parser')\n",
    "print(soup.title)"
   ]
  },
  {
   "attachments": {},
   "cell_type": "markdown",
   "metadata": {},
   "source": [
    "this opens the Beautiful soup and parses the html"
   ]
  }
 ],
 "metadata": {
  "kernelspec": {
   "display_name": "Python 3",
   "language": "python",
   "name": "python3"
  },
  "language_info": {
   "codemirror_mode": {
    "name": "ipython",
    "version": 3
   },
   "file_extension": ".py",
   "mimetype": "text/x-python",
   "name": "python",
   "nbconvert_exporter": "python",
   "pygments_lexer": "ipython3",
   "version": "3.9.13"
  },
  "orig_nbformat": 4
 },
 "nbformat": 4,
 "nbformat_minor": 2
}
